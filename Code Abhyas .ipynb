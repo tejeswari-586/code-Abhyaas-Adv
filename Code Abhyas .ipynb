{
 "cells": [
  {
   "cell_type": "code",
   "execution_count": 2,
   "id": "14a8b1b2",
   "metadata": {},
   "outputs": [
    {
     "name": "stdout",
     "output_type": "stream",
     "text": [
      "ONS\n"
     ]
    }
   ],
   "source": [
    "print(\"ONS\")"
   ]
  },
  {
   "cell_type": "markdown",
   "id": "61fc0503",
   "metadata": {},
   "source": [
    "# Frequency of items"
   ]
  },
  {
   "cell_type": "code",
   "execution_count": 48,
   "id": "a38cf7ae",
   "metadata": {},
   "outputs": [],
   "source": [
    "c = {}\n",
    "a = [1,2,5,4,2,5,1,5,3]\n",
    "for i in a:\n",
    "    if i not in c:\n",
    "        c[i] = 1\n",
    "    else:\n",
    "        c[i] += 1"
   ]
  },
  {
   "cell_type": "code",
   "execution_count": 49,
   "id": "5ef96318",
   "metadata": {},
   "outputs": [
    {
     "name": "stdout",
     "output_type": "stream",
     "text": [
      "{1: 2, 2: 2, 5: 3, 4: 1, 3: 1}\n"
     ]
    }
   ],
   "source": [
    "print(c)"
   ]
  },
  {
   "cell_type": "code",
   "execution_count": 50,
   "id": "fa38c9b2",
   "metadata": {},
   "outputs": [],
   "source": [
    "l = list(c.keys())"
   ]
  },
  {
   "cell_type": "code",
   "execution_count": 51,
   "id": "63773a73",
   "metadata": {},
   "outputs": [
    {
     "name": "stdout",
     "output_type": "stream",
     "text": [
      "[1, 2, 5, 4, 3]\n"
     ]
    }
   ],
   "source": [
    "print(l)"
   ]
  },
  {
   "cell_type": "markdown",
   "id": "4c10a069",
   "metadata": {},
   "source": [
    "# max frequency of an item"
   ]
  },
  {
   "cell_type": "code",
   "execution_count": 52,
   "id": "5a00588d",
   "metadata": {},
   "outputs": [
    {
     "name": "stdout",
     "output_type": "stream",
     "text": [
      "5\n"
     ]
    }
   ],
   "source": [
    "ma= c[l[0]]\n",
    "k=l[0]\n",
    "for i in range (1 , len(l)):\n",
    "    if (ma < c[l[i]]):\n",
    "        ma = c[l[i]]\n",
    "        k=l[i]\n",
    "print(k)"
   ]
  },
  {
   "cell_type": "markdown",
   "id": "d2e5fd02",
   "metadata": {},
   "source": [
    "# min frequency of an item"
   ]
  },
  {
   "cell_type": "code",
   "execution_count": 53,
   "id": "a9ff7d23",
   "metadata": {},
   "outputs": [],
   "source": [
    "mi = c[l[0]]\n",
    "p = l[0]\n",
    "for i in range(1 ,len(l)):\n",
    "    if mi > c[l[i]]:\n",
    "        mi = c[l[i]]\n",
    "        p = l[i]"
   ]
  },
  {
   "cell_type": "code",
   "execution_count": 54,
   "id": "b3585435",
   "metadata": {},
   "outputs": [
    {
     "name": "stdout",
     "output_type": "stream",
     "text": [
      "4\n"
     ]
    }
   ],
   "source": [
    "print(p)"
   ]
  },
  {
   "cell_type": "code",
   "execution_count": null,
   "id": "19df649d",
   "metadata": {},
   "outputs": [],
   "source": []
  }
 ],
 "metadata": {
  "kernelspec": {
   "display_name": "Python 3 (ipykernel)",
   "language": "python",
   "name": "python3"
  },
  "language_info": {
   "codemirror_mode": {
    "name": "ipython",
    "version": 3
   },
   "file_extension": ".py",
   "mimetype": "text/x-python",
   "name": "python",
   "nbconvert_exporter": "python",
   "pygments_lexer": "ipython3",
   "version": "3.9.12"
  }
 },
 "nbformat": 4,
 "nbformat_minor": 5
}
